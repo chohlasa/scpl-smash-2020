{
 "cells": [
  {
   "cell_type": "markdown",
   "metadata": {},
   "source": [
    "## R Tutorial"
   ]
  },
  {
   "cell_type": "markdown",
   "metadata": {},
   "source": [
    "<img src=\"img/r.svg\" width=200 align=\"left\"/>"
   ]
  },
  {
   "cell_type": "markdown",
   "metadata": {},
   "source": [
    "In this notebook, we'll go over some R fundamentals:\n",
    " - Setting up a working directory and importing data\n",
    " - Data structures\n",
    " - Sampling\n",
    " - Control Flow\n",
    " - Packages"
   ]
  },
  {
   "cell_type": "code",
   "execution_count": 12,
   "metadata": {},
   "outputs": [
    {
     "name": "stderr",
     "output_type": "stream",
     "text": [
      "── \u001b[1mAttaching packages\u001b[22m ─────────────────────────────────────── tidyverse 1.3.0 ──\n",
      "\u001b[32m✔\u001b[39m \u001b[34mggplot2\u001b[39m 3.2.1     \u001b[32m✔\u001b[39m \u001b[34mpurrr  \u001b[39m 0.3.3\n",
      "\u001b[32m✔\u001b[39m \u001b[34mtibble \u001b[39m 2.1.3     \u001b[32m✔\u001b[39m \u001b[34mdplyr  \u001b[39m 0.8.3\n",
      "\u001b[32m✔\u001b[39m \u001b[34mtidyr  \u001b[39m 1.0.0     \u001b[32m✔\u001b[39m \u001b[34mstringr\u001b[39m 1.4.0\n",
      "\u001b[32m✔\u001b[39m \u001b[34mreadr  \u001b[39m 1.3.1     \u001b[32m✔\u001b[39m \u001b[34mforcats\u001b[39m 0.4.0\n",
      "── \u001b[1mConflicts\u001b[22m ────────────────────────────────────────── tidyverse_conflicts() ──\n",
      "\u001b[31m✖\u001b[39m \u001b[34mdplyr\u001b[39m::\u001b[32mfilter()\u001b[39m masks \u001b[34mstats\u001b[39m::filter()\n",
      "\u001b[31m✖\u001b[39m \u001b[34mdplyr\u001b[39m::\u001b[32mlag()\u001b[39m    masks \u001b[34mstats\u001b[39m::lag()\n"
     ]
    }
   ],
   "source": [
    "library(tidyverse)"
   ]
  },
  {
   "cell_type": "markdown",
   "metadata": {},
   "source": [
    "## Paths, the working directory, and importing data"
   ]
  },
  {
   "cell_type": "markdown",
   "metadata": {},
   "source": [
    "All of the files on your computer are organized into directories, or folders.\n",
    "\n",
    "First, there are a couple special directories you should know about:\n",
    "- The root directory, denoted by `/` is the base directory of your computer's entire file system. Generally, you should stay away from the root directory.\n",
    "- The home directory, denoted by `~`, is the default directory. This is a good place store the directories of your `R` projects.\n",
    "\n",
    "> The home directory is actually a sub-directory of the root directory, but we use it so often that it gets its own shortcut!"
   ]
  },
  {
   "cell_type": "markdown",
   "metadata": {},
   "source": [
    "The \"addresses\" to each of the files on your computer are known as paths. For example, `'~/my_folder'` refers to the directory `my_folder` inside the home directory `~`.\n",
    "\n",
    "We can go deeper: `'~/my_folder/my_file'` refers to the file `my_file` inside of `my_folder` inside of the home directory `~`."
   ]
  },
  {
   "cell_type": "markdown",
   "metadata": {},
   "source": [
    "> **Important note**: `'/my_folder/my_file'` is **NOT** equivalent to `'~/my_folder/my_file'`. If a file path starts with `/`, your computer will look inside the root directory. If a file path starts with `~`, your computer will look inside the home directory.\n",
    "\n",
    "> **Important note 2**: File paths that start with `~` or `/` are called **absolute paths**. All other file paths are known as **relative paths**. More on relative paths in the next section."
   ]
  },
  {
   "cell_type": "markdown",
   "metadata": {},
   "source": [
    "### Exercise\n",
    "\n",
    "Write the path to the file corresponding to the file `agenda.txt` inside the directory `smash` inside the home directory. Optional challenge: try writing this path more than one way.\n",
    "> Note: This file doesn't actually exist! It's just for this exercise. "
   ]
  },
  {
   "cell_type": "code",
   "execution_count": 10,
   "metadata": {},
   "outputs": [
    {
     "data": {
      "text/html": [
       "'~/smash/agenda.txt'"
      ],
      "text/latex": [
       "'\\textasciitilde{}/smash/agenda.txt'"
      ],
      "text/markdown": [
       "'~/smash/agenda.txt'"
      ],
      "text/plain": [
       "[1] \"~/smash/agenda.txt\""
      ]
     },
     "metadata": {},
     "output_type": "display_data"
    },
    {
     "data": {
      "text/html": [
       "'/home/smash/agenda.txt'"
      ],
      "text/latex": [
       "'/home/smash/agenda.txt'"
      ],
      "text/markdown": [
       "'/home/smash/agenda.txt'"
      ],
      "text/plain": [
       "[1] \"/home/smash/agenda.txt\""
      ]
     },
     "metadata": {},
     "output_type": "display_data"
    }
   ],
   "source": [
    "# START\n",
    "'~/smash/agenda.txt'\n",
    "# assuming the home directory is named `home` \n",
    "# and is inside the root directory:\n",
    "'/home/smash/agenda.txt' \n",
    "# END"
   ]
  },
  {
   "cell_type": "markdown",
   "metadata": {},
   "source": [
    "## The Working directory"
   ]
  },
  {
   "cell_type": "markdown",
   "metadata": {},
   "source": [
    "The working directory (`wd`) is the folder that `R` will save/load files from. \n",
    "\n",
    "To see your current working directory, run `getwd()`."
   ]
  },
  {
   "cell_type": "code",
   "execution_count": 3,
   "metadata": {
    "attributes": {
     "classes": [],
     "eval": "FALSE",
     "id": ""
    }
   },
   "outputs": [
    {
     "data": {
      "text/html": [
       "'/home/jdgg/scpl-smash-2020/r-tutorial'"
      ],
      "text/latex": [
       "'/home/jdgg/scpl-smash-2020/r-tutorial'"
      ],
      "text/markdown": [
       "'/home/jdgg/scpl-smash-2020/r-tutorial'"
      ],
      "text/plain": [
       "[1] \"/home/jdgg/scpl-smash-2020/r-tutorial\""
      ]
     },
     "metadata": {},
     "output_type": "display_data"
    }
   ],
   "source": [
    "getwd()"
   ]
  },
  {
   "cell_type": "markdown",
   "metadata": {},
   "source": [
    "What's so great about the working directory? \n",
    "\n",
    "Let's say that you need to use a data file `my_data.csv` in `my_script.R`, and that you placed the data file in the same directory as `my_script.R`. \n",
    "\n",
    "To access `my_data.csv` inside of `my_script.R`, you don't need to type out the full path of `my_data.csv` starting from the home directory! Your computer will automatically know to look for `my_data.csv` in the working directory."
   ]
  },
  {
   "cell_type": "markdown",
   "metadata": {},
   "source": [
    "### Exercise\n",
    "\n"
   ]
  },
  {
   "cell_type": "markdown",
   "metadata": {},
   "source": [
    "To set the working directory to `path`, run `setwd(path)`. For example, `setwd(\"~\")` would set the home directory as the working directory.\n",
    "\n",
    "> Note that using `setwd()` is frowned upon. Instead, place any files used by your `R` script in the same directory as the script. This way, you can use relative paths and keep your code simple and clear!"
   ]
  },
  {
   "cell_type": "markdown",
   "metadata": {},
   "source": [
    " ## Importing data\n",
    " - `csv`, or comma-separated values, is a very common data format.\n",
    " - You can import a `csv` file into `R` using `read_csv`."
   ]
  },
  {
   "cell_type": "code",
   "execution_count": 11,
   "metadata": {},
   "outputs": [
    {
     "ename": "ERROR",
     "evalue": "Error in read_csv(\"data/some_data.csv\"): could not find function \"read_csv\"\n",
     "output_type": "error",
     "traceback": [
      "Error in read_csv(\"data/some_data.csv\"): could not find function \"read_csv\"\nTraceback:\n"
     ]
    }
   ],
   "source": [
    "read_csv('data/some_data.csv')"
   ]
  },
  {
   "cell_type": "markdown",
   "metadata": {},
   "source": [
    "You can also use write_csv to save tables of data into an existing csv file, which appears wherever your working directory. Here we use data.frame to create a table - we'll take more about tables later."
   ]
  },
  {
   "cell_type": "code",
   "execution_count": 282,
   "metadata": {},
   "outputs": [],
   "source": [
    "write_csv(data.frame(a = c(1, 2, 3),\n",
    "                 b = c(2, 3, 4)),\n",
    "         'new_data.csv')"
   ]
  },
  {
   "cell_type": "markdown",
   "metadata": {},
   "source": [
    "Try reading in the file you just wrote."
   ]
  },
  {
   "cell_type": "code",
   "execution_count": 283,
   "metadata": {},
   "outputs": [
    {
     "name": "stderr",
     "output_type": "stream",
     "text": [
      "Parsed with column specification:\n",
      "cols(\n",
      "  a = col_integer(),\n",
      "  b = col_integer()\n",
      ")\n"
     ]
    },
    {
     "data": {
      "text/html": [
       "<table>\n",
       "<thead><tr><th scope=col>a</th><th scope=col>b</th></tr></thead>\n",
       "<tbody>\n",
       "\t<tr><td>1</td><td>2</td></tr>\n",
       "\t<tr><td>2</td><td>3</td></tr>\n",
       "\t<tr><td>3</td><td>4</td></tr>\n",
       "</tbody>\n",
       "</table>\n"
      ],
      "text/latex": [
       "\\begin{tabular}{r|ll}\n",
       " a & b\\\\\n",
       "\\hline\n",
       "\t 1 & 2\\\\\n",
       "\t 2 & 3\\\\\n",
       "\t 3 & 4\\\\\n",
       "\\end{tabular}\n"
      ],
      "text/plain": [
       "  a b\n",
       "1 1 2\n",
       "2 2 3\n",
       "3 3 4"
      ]
     },
     "metadata": {},
     "output_type": "display_data"
    }
   ],
   "source": [
    "#use read_csv to read in new_data.csv\n",
    "# START\n",
    "read_csv('new_data.csv')\n",
    "# END"
   ]
  },
  {
   "cell_type": "markdown",
   "metadata": {},
   "source": [
    "# Data and Data structures"
   ]
  },
  {
   "cell_type": "markdown",
   "metadata": {},
   "source": [
    "## Strings\n",
    "\n",
    " - Strings are what computer science people call text\n",
    " - A String variable can be declared in either double quotes(\"\") or single quotes ('')\n",
    "\n"
   ]
  },
  {
   "cell_type": "code",
   "execution_count": 284,
   "metadata": {},
   "outputs": [
    {
     "data": {
      "text/html": [
       "'This is a valid string'"
      ],
      "text/latex": [
       "'This is a valid string'"
      ],
      "text/markdown": [
       "'This is a valid string'"
      ],
      "text/plain": [
       "[1] \"This is a valid string\""
      ]
     },
     "metadata": {},
     "output_type": "display_data"
    }
   ],
   "source": [
    "s <- \"This is a valid string\"\n",
    "s"
   ]
  },
  {
   "cell_type": "markdown",
   "metadata": {},
   "source": [
    " - And you can reassign to the same variable"
   ]
  },
  {
   "cell_type": "code",
   "execution_count": 285,
   "metadata": {},
   "outputs": [
    {
     "data": {
      "text/html": [
       "'and so is this'"
      ],
      "text/latex": [
       "'and so is this'"
      ],
      "text/markdown": [
       "'and so is this'"
      ],
      "text/plain": [
       "[1] \"and so is this\""
      ]
     },
     "metadata": {},
     "output_type": "display_data"
    }
   ],
   "source": [
    "s <- 'and so is this'\n",
    "s"
   ]
  },
  {
   "cell_type": "markdown",
   "metadata": {},
   "source": [
    "# Vectors\n",
    "\n",
    "## Vectors: `c()`\n",
    " - Vectors are the building blocks of `R` --- even a single variable is actually\n",
    " an \"atomic\" vector (vector of size 1)\n",
    " - Vectors in `R` are created by *c*oncatenating a series of elements\n",
    " - We saw lots of vectors in the birthday problem notebook!"
   ]
  },
  {
   "cell_type": "markdown",
   "metadata": {},
   "source": [
    "## Vectors: `seq()`\n",
    "- Create a vector from a sequence with `seq(from, to, by=1)`"
   ]
  },
  {
   "cell_type": "code",
   "execution_count": 189,
   "metadata": {},
   "outputs": [
    {
     "name": "stdout",
     "output_type": "stream",
     "text": [
      " [1]  1  2  3  4  5  6  7  8  9 10\n"
     ]
    }
   ],
   "source": [
    "print(seq(1, 10))"
   ]
  },
  {
   "cell_type": "code",
   "execution_count": 218,
   "metadata": {},
   "outputs": [
    {
     "name": "stdout",
     "output_type": "stream",
     "text": [
      "[1] 1 3 5 7 9\n"
     ]
    }
   ],
   "source": [
    "print(seq(1, 10, 2))"
   ]
  },
  {
   "cell_type": "markdown",
   "metadata": {},
   "source": [
    "- Use short-hand `from:to` if you're incrementing by one"
   ]
  },
  {
   "cell_type": "code",
   "execution_count": 219,
   "metadata": {},
   "outputs": [
    {
     "name": "stdout",
     "output_type": "stream",
     "text": [
      " [1]  1  2  3  4  5  6  7  8  9 10\n"
     ]
    }
   ],
   "source": [
    "print(1:10)"
   ]
  },
  {
   "cell_type": "markdown",
   "metadata": {},
   "source": [
    "## Vectors: `rep()`\n",
    "- Use `rep()` to repeat values"
   ]
  },
  {
   "cell_type": "code",
   "execution_count": 220,
   "metadata": {},
   "outputs": [
    {
     "name": "stdout",
     "output_type": "stream",
     "text": [
      "[1] 13 13 13 13\n"
     ]
    }
   ],
   "source": [
    "print(rep(13, 4))"
   ]
  },
  {
   "cell_type": "code",
   "execution_count": 222,
   "metadata": {},
   "outputs": [
    {
     "name": "stdout",
     "output_type": "stream",
     "text": [
      "[1] \"Yes!\" \"Yes!\" \"Yes!\"\n"
     ]
    }
   ],
   "source": [
    "print(rep('Yes!', 3))"
   ]
  },
  {
   "cell_type": "code",
   "execution_count": 223,
   "metadata": {},
   "outputs": [
    {
     "name": "stdout",
     "output_type": "stream",
     "text": [
      "[1] \"Sat.\" \"Sun.\" \"Sat.\" \"Sun.\"\n"
     ]
    }
   ],
   "source": [
    "print(rep(c('Sat.', 'Sun.'), 2))"
   ]
  },
  {
   "cell_type": "markdown",
   "metadata": {},
   "source": [
    "# Exercise\n",
    "- Make a vector using seq() and rep() which would be equivalent to (10,20,30,10,20,30,10,20,30)"
   ]
  },
  {
   "cell_type": "code",
   "execution_count": 290,
   "metadata": {},
   "outputs": [
    {
     "name": "stdout",
     "output_type": "stream",
     "text": [
      "[1] 10 20 30 10 20 30 10 20 30\n"
     ]
    }
   ],
   "source": [
    "#START\n",
    "print(rep(seq(10,30,by=10), 3))\n",
    "#END"
   ]
  },
  {
   "cell_type": "markdown",
   "metadata": {},
   "source": [
    "## Vectors: Indexing\n",
    "- We saw vector indexing in the birthday problem notebook, but let's review.\n",
    "- Use square braces (`[]`) to index a vector (base 1)\n",
    "    - Indexing out-of-bounds returns a special value called `NA`, *does NOT*\n",
    "      fail"
   ]
  },
  {
   "cell_type": "code",
   "execution_count": 127,
   "metadata": {},
   "outputs": [],
   "source": [
    "X <- c(10, 11, 12, 13)"
   ]
  },
  {
   "cell_type": "code",
   "execution_count": 128,
   "metadata": {},
   "outputs": [
    {
     "name": "stdout",
     "output_type": "stream",
     "text": [
      "[1] 10\n"
     ]
    }
   ],
   "source": [
    "print(X[1])"
   ]
  },
  {
   "cell_type": "code",
   "execution_count": 129,
   "metadata": {},
   "outputs": [
    {
     "name": "stdout",
     "output_type": "stream",
     "text": [
      "[1] 13\n"
     ]
    }
   ],
   "source": [
    "print(X[4])"
   ]
  },
  {
   "cell_type": "code",
   "execution_count": 130,
   "metadata": {},
   "outputs": [
    {
     "name": "stdout",
     "output_type": "stream",
     "text": [
      "[1] NA\n"
     ]
    }
   ],
   "source": [
    "print(X[5])  # Does NOT fail; but returns NA"
   ]
  },
  {
   "cell_type": "markdown",
   "metadata": {},
   "source": [
    "## Vectors: Indexing (cont'd)\n",
    "- Negative indexing is used to exclude elements"
   ]
  },
  {
   "cell_type": "code",
   "execution_count": 252,
   "metadata": {},
   "outputs": [
    {
     "name": "stdout",
     "output_type": "stream",
     "text": [
      "[1] 0.8194384 0.7045800\n"
     ]
    }
   ],
   "source": [
    "print(X[-1])"
   ]
  },
  {
   "cell_type": "markdown",
   "metadata": {},
   "source": [
    "- Index multiple objects by indexing with a vector"
   ]
  },
  {
   "cell_type": "code",
   "execution_count": 253,
   "metadata": {},
   "outputs": [
    {
     "name": "stdout",
     "output_type": "stream",
     "text": [
      "[1] 0.8194384        NA\n"
     ]
    }
   ],
   "source": [
    "ind <- c(2, 4)\n",
    "print(X[ind])"
   ]
  },
  {
   "cell_type": "markdown",
   "metadata": {},
   "source": [
    "## Vectors: Re-assignment with Indices\n",
    "- Replace elements by re-assigning with index"
   ]
  },
  {
   "cell_type": "code",
   "execution_count": 254,
   "metadata": {},
   "outputs": [
    {
     "name": "stdout",
     "output_type": "stream",
     "text": [
      "[1] 101.0000000   0.8194384   0.7045800\n"
     ]
    }
   ],
   "source": [
    "X[1] <- 101\n",
    "print(X)"
   ]
  },
  {
   "cell_type": "markdown",
   "metadata": {},
   "source": [
    "- Replace multiple elements as well"
   ]
  },
  {
   "cell_type": "code",
   "execution_count": 255,
   "metadata": {},
   "outputs": [
    {
     "name": "stdout",
     "output_type": "stream",
     "text": [
      "[1] 101  22  33\n"
     ]
    }
   ],
   "source": [
    "X[2:3] <- c(22, 33)\n",
    "print(X)"
   ]
  },
  {
   "cell_type": "markdown",
   "metadata": {},
   "source": [
    "## Vectors: Add Elements by Index\n",
    "- Add new elements to a vector by assigning"
   ]
  },
  {
   "cell_type": "code",
   "execution_count": 293,
   "metadata": {},
   "outputs": [
    {
     "name": "stdout",
     "output_type": "stream",
     "text": [
      "[1] 555\n"
     ]
    }
   ],
   "source": [
    "print(X[5])"
   ]
  },
  {
   "cell_type": "code",
   "execution_count": 294,
   "metadata": {},
   "outputs": [
    {
     "name": "stdout",
     "output_type": "stream",
     "text": [
      "[1] 555\n"
     ]
    }
   ],
   "source": [
    "X[5] <- 555\n",
    "print(X[5])"
   ]
  },
  {
   "cell_type": "markdown",
   "metadata": {},
   "source": [
    "# Exercise\n",
    "The below vector is supposed to contain all the days of the week, but two of them are messed up.  Write code to reassign the missing days using re-assignment with indices."
   ]
  },
  {
   "cell_type": "code",
   "execution_count": 301,
   "metadata": {},
   "outputs": [],
   "source": [
    "days_of_the_week <- c('Monday', 'Tuesday', 'Wednesday', 'Thursday', 5, 6, 'Sunday')"
   ]
  },
  {
   "cell_type": "code",
   "execution_count": 302,
   "metadata": {},
   "outputs": [
    {
     "name": "stdout",
     "output_type": "stream",
     "text": [
      "[1] \"Monday\"    \"Tuesday\"   \"Wednesday\" \"Thursday\"  \"Friday\"    \"Saturday\" \n",
      "[7] \"Sunday\"   \n"
     ]
    }
   ],
   "source": [
    "#Replace the numbers with the correct days\n",
    "#START\n",
    "days_of_the_week[5:6] <- c('Friday', 'Saturday')\n",
    "print(days_of_the_week)\n",
    "#END"
   ]
  },
  {
   "cell_type": "markdown",
   "metadata": {},
   "source": [
    "# Sampling"
   ]
  },
  {
   "cell_type": "markdown",
   "metadata": {},
   "source": [
    "- In the birthday problem notebook, we used sample() to sample from a vector of numbers.\n",
    "        sample(1:366, 30, replace = TRUE)\n",
    "- Sometimes we instead want to generate samples from known distributions\n",
    "    - e.g., simulating 1,000 coin flips and counting the number of heads\n",
    "- For this, we can use the family of `r`*`dist`*`()` functions, where *`dist`*\n",
    "  is replaced with the desired distribution\n",
    "  (e.g., `unif`orm, `norm`al, `pois`son)"
   ]
  },
  {
   "cell_type": "code",
   "execution_count": 225,
   "metadata": {
    "attributes": {
     "classes": [],
     "eval": "FALSE",
     "id": ""
    }
   },
   "outputs": [
    {
     "name": "stdout",
     "output_type": "stream",
     "text": [
      "[1] 0.8217362 0.4133482 0.2749151 0.9316357 0.5912007\n"
     ]
    }
   ],
   "source": [
    "print(runif(n = 5)) # 5 samples from Unif(0, 1)"
   ]
  },
  {
   "cell_type": "code",
   "execution_count": 226,
   "metadata": {},
   "outputs": [
    {
     "name": "stdout",
     "output_type": "stream",
     "text": [
      "[1]  1.7609726 -0.5051783  1.3015926  0.1025125  0.4249084\n"
     ]
    }
   ],
   "source": [
    "print(rnorm(n = 5))  # 5 samples from Norm(0, 1)"
   ]
  },
  {
   "cell_type": "code",
   "execution_count": 227,
   "metadata": {},
   "outputs": [
    {
     "name": "stdout",
     "output_type": "stream",
     "text": [
      "[1] 0 1 1 1 0\n"
     ]
    }
   ],
   "source": [
    "print(rpois(n = 5, 1))  # 5 samples from Poisson(1)"
   ]
  },
  {
   "cell_type": "code",
   "execution_count": 228,
   "metadata": {},
   "outputs": [
    {
     "name": "stdout",
     "output_type": "stream",
     "text": [
      "[1] 0.755312 1.315421 1.532311 2.353120 1.113656\n"
     ]
    }
   ],
   "source": [
    "print(rexp(n = 5))  # 5 samples from Exp(1)"
   ]
  },
  {
   "cell_type": "markdown",
   "metadata": {},
   "source": [
    "- Distribution parameters can be specified as arguments, e.g."
   ]
  },
  {
   "cell_type": "code",
   "execution_count": 229,
   "metadata": {
    "attributes": {
     "classes": [],
     "eval": "FALSE",
     "id": ""
    }
   },
   "outputs": [
    {
     "name": "stdout",
     "output_type": "stream",
     "text": [
      "[1] 26.65328 25.37107 23.78810 20.11862 24.46719 27.37631 20.32917\n"
     ]
    }
   ],
   "source": [
    "# 7 samples from a Norm(20, 5) distribution\n",
    "print(rnorm(n = 7, mean = 20, sd = 5))"
   ]
  },
  {
   "cell_type": "markdown",
   "metadata": {},
   "source": [
    "- In general, you can bring up a help page for any function which comes from a library or base R by typing ?function_name"
   ]
  },
  {
   "cell_type": "markdown",
   "metadata": {},
   "source": [
    "# Exercise\n",
    "Let's say we are ice cream researchers measuring the effect of a treatment where we bombard people with advertising which talks about how delicious ice cream is.  Say we measure our control group eating on average 3 ice creams a day, with a standard error of .5.  Then say our treatment group eats on average 4 ice creams a day, with a standard error of .7.  Give an 80% confidence interval on the effect of our advertising treatment."
   ]
  },
  {
   "cell_type": "markdown",
   "metadata": {},
   "source": [
    "Remember: When you take the difference between normals N(a, b) - N(c, d), the result is N(a - c, sqrt(b^2 + d^2))\n",
    "So our estimate of the difference in how much ice cream people eat (the effect of our treatment) is a normal with mean=(4 - 3) and standard deviation=sqrt(.5^2 + .7^2)."
   ]
  },
  {
   "cell_type": "code",
   "execution_count": 304,
   "metadata": {},
   "outputs": [
    {
     "data": {
      "text/html": [
       "-0.102432341330235"
      ],
      "text/latex": [
       "-0.102432341330235"
      ],
      "text/markdown": [
       "-0.102432341330235"
      ],
      "text/plain": [
       "[1] -0.1024323"
      ]
     },
     "metadata": {},
     "output_type": "display_data"
    },
    {
     "data": {
      "text/html": [
       "2.10243234133024"
      ],
      "text/latex": [
       "2.10243234133024"
      ],
      "text/markdown": [
       "2.10243234133024"
      ],
      "text/plain": [
       "[1] 2.102432"
      ]
     },
     "metadata": {},
     "output_type": "display_data"
    }
   ],
   "source": [
    "#START\n",
    "qnorm(.1, mean=1, sd = sqrt(.5^2 + .7^2)) #lower end\n",
    "qnorm(.9, mean = 1, sd = sqrt(.5^2 + .7^2)) #upper end\n",
    "#END"
   ]
  },
  {
   "cell_type": "markdown",
   "metadata": {},
   "source": [
    "# Custom functions and control\n",
    "\n",
    "## Control Flow\n",
    "- We saw `if` statements inside of loops in the birthday problem, but we can use them outside of loops too!"
   ]
  },
  {
   "cell_type": "code",
   "execution_count": 50,
   "metadata": {
    "attributes": {
     "classes": [],
     "eval": "FALSE",
     "id": ""
    }
   },
   "outputs": [
    {
     "ename": "ERROR",
     "evalue": "Error in eval(expr, envir, enclos): object 'condition' not found\n",
     "execution_count": 50,
     "output_type": "error",
     "traceback": [
      "Error in eval(expr, envir, enclos): object 'condition' not found\nTraceback:\n"
     ]
    }
   ],
   "source": [
    "if (condition) {\n",
    "  # stuff to do when condition is TRUE\n",
    "} else if(other_condition) {  # (OPTIONAL)\n",
    "  # stuff to do if other_condition is TRUE\n",
    "} else {  # (OPTIONAL)\n",
    "  # stuff to do if all other conditions are FALSE\n",
    "}"
   ]
  },
  {
   "cell_type": "markdown",
   "metadata": {},
   "source": [
    "## Loops \n",
    "\n",
    " - We saw one type of loop in the birthday problem"
   ]
  },
  {
   "cell_type": "code",
   "execution_count": 168,
   "metadata": {},
   "outputs": [
    {
     "name": "stdout",
     "output_type": "stream",
     "text": [
      "[1] 1\n",
      "[1] 2\n",
      "[1] 3\n",
      "[1] \"Counter is now bigger than or equal to 3!\"\n",
      "[1] 4\n",
      "[1] \"Counter is now bigger than or equal to 3!\"\n",
      "[1] 5\n",
      "[1] \"Counter is now bigger than or equal to 3!\"\n"
     ]
    }
   ],
   "source": [
    "counter <- 0\n",
    "\n",
    "for (i in 1:5) {\n",
    "    counter <- counter + 1\n",
    "\n",
    "    print(counter)\n",
    "    \n",
    "    if (counter >= 3) {\n",
    "        print(\"Counter is now bigger than or equal to 3!\")\n",
    "    }\n",
    "}"
   ]
  },
  {
   "cell_type": "markdown",
   "metadata": {},
   "source": [
    " - But there's another type of loop as well, the while loop"
   ]
  },
  {
   "cell_type": "code",
   "execution_count": 169,
   "metadata": {},
   "outputs": [
    {
     "name": "stdout",
     "output_type": "stream",
     "text": [
      "[1] 1\n",
      "[1] 2\n",
      "[1] 3\n",
      "[1] \"Counter is now bigger than or equal to 3!\"\n",
      "[1] 4\n",
      "[1] \"Counter is now bigger than or equal to 3!\"\n",
      "[1] 5\n",
      "[1] \"Counter is now bigger than or equal to 3!\"\n"
     ]
    }
   ],
   "source": [
    "counter <- 0\n",
    "\n",
    "while (counter < 5){\n",
    "    counter <- counter + 1 \n",
    "    \n",
    "    print(counter)\n",
    "    \n",
    "    if (counter >=3){\n",
    "        print('Counter is now bigger than or equal to 3!')\n",
    "    }\n",
    "}"
   ]
  },
  {
   "cell_type": "markdown",
   "metadata": {},
   "source": [
    " - be careful that the condition in `while (condition){` eventually becomes false!"
   ]
  },
  {
   "cell_type": "markdown",
   "metadata": {},
   "source": [
    "## User Defined Functions\n",
    "- Write your own functions in the form"
   ]
  },
  {
   "cell_type": "code",
   "execution_count": 170,
   "metadata": {
    "attributes": {
     "classes": [],
     "eval": "FALSE",
     "id": ""
    }
   },
   "outputs": [],
   "source": [
    "name_of_function <- function(arguments) {\n",
    "  # do some stuff with arguments\n",
    "  return(result)\n",
    "}"
   ]
  },
  {
   "cell_type": "markdown",
   "metadata": {},
   "source": [
    "- You can use your functions like any other function, e.g.,"
   ]
  },
  {
   "cell_type": "code",
   "execution_count": 171,
   "metadata": {
    "attributes": {
     "classes": [],
     "eval": "FALSE",
     "id": ""
    }
   },
   "outputs": [
    {
     "ename": "ERROR",
     "evalue": "Error in name_of_function(arguments): object 'result' not found\n",
     "execution_count": 171,
     "output_type": "error",
     "traceback": [
      "Error in name_of_function(arguments): object 'result' not found\nTraceback:\n",
      "1. name_of_function(arguments)"
     ]
    }
   ],
   "source": [
    "name_of_function(arguments)  # gives you the 'result'"
   ]
  },
  {
   "cell_type": "markdown",
   "metadata": {},
   "source": [
    "For example, here's an example of a function add_nums() which adds its arguments, and how to call the function."
   ]
  },
  {
   "cell_type": "code",
   "execution_count": 308,
   "metadata": {},
   "outputs": [
    {
     "data": {
      "text/html": [
       "7"
      ],
      "text/latex": [
       "7"
      ],
      "text/markdown": [
       "7"
      ],
      "text/plain": [
       "[1] 7"
      ]
     },
     "metadata": {},
     "output_type": "display_data"
    }
   ],
   "source": [
    "add_nums <- function(x, y){\n",
    "    s <- x + y\n",
    "    return(s)\n",
    "}\n",
    "add_nums(3, 4)"
   ]
  },
  {
   "cell_type": "markdown",
   "metadata": {},
   "source": [
    "## User Defined Functions: Exercise\n",
    "- Write a function that will take a vector in $\\mathbb{R}^3$ (for example, c(1,3,5)) and tell you if you\n",
    "can make a triangle or not (i.e., return `TRUE` if a triangle can be made and \n",
    "`FALSE` otherwise.)\n",
    "- Hint: you can make a triangle from three side lengths if and only if none of the side lengths are greater than the sum of the other two."
   ]
  },
  {
   "cell_type": "code",
   "execution_count": 309,
   "metadata": {},
   "outputs": [],
   "source": [
    "is_good <- function(vec) {\n",
    "  for (i in 1:3) {\n",
    "    # Check if element i is greater than \n",
    "    # sum of other two elements\n",
    "    if (vec[i] > sum(vec[-i])) {\n",
    "      return(FALSE)\n",
    "    }\n",
    "  }\n",
    "  return(TRUE)\n",
    "}"
   ]
  },
  {
   "cell_type": "markdown",
   "metadata": {},
   "source": [
    "## `replicate`\n",
    "- Loops in `R` are inefficient, and best avoided if possible\n",
    "- Vectorize operations whenever possible.\n",
    "- `replicate` can be used to repeat some operation (function),\n",
    "  and collect the results[^apply]\n",
    "- e.g., to run `some_function()` 1,000 times and collect the results:"
   ]
  },
  {
   "cell_type": "code",
   "execution_count": 310,
   "metadata": {
    "attributes": {
     "": "",
     "classes": [],
     "id": ""
    }
   },
   "outputs": [
    {
     "ename": "ERROR",
     "evalue": "Error in some_function(): could not find function \"some_function\"\n",
     "execution_count": 310,
     "output_type": "error",
     "traceback": [
      "Error in some_function(): could not find function \"some_function\"\nTraceback:\n",
      "1. replicate(1000, some_function())",
      "2. sapply(integer(n), eval.parent(substitute(function(...) expr)), \n .     simplify = simplify)",
      "3. lapply(X = X, FUN = FUN, ...)",
      "4. FUN(X[[i]], ...)"
     ]
    }
   ],
   "source": [
    "replicate(1000, some_function())  "
   ]
  },
  {
   "cell_type": "markdown",
   "metadata": {},
   "source": [
    "[^apply]: `replicate` is actually a convenient wrapper for one of the `apply` \n",
    "functions, which are more general. See the documentation for details.\n",
    "\n",
    "\n",
    "# Exercise\n",
    "\n",
    "## The Question\n",
    "> You are given three sticks, each of a random length between 0 and 1.\n",
    "\n",
    "> What's the probability you can make a triangle?\n",
    "\n",
    "- The answer is 1/2\n",
    "- Use `R` to simulate 100,000 times and estimate the answer by\n",
    "    1. generate 100,000 triplets of uniform (0, 1) random variables\n",
    "    2. find the portion that can be made into a triangle (hint: use the\n",
    "    `is_good` function)\n",
    "\n",
    "## Part 1: You're allowed to use a 'for loop' if you want!"
   ]
  },
  {
   "cell_type": "code",
   "execution_count": 312,
   "metadata": {
    "attributes": {
     "cache": "TRUE",
     "classes": [],
     "id": ""
    }
   },
   "outputs": [
    {
     "data": {
      "text/html": [
       "0.4942"
      ],
      "text/latex": [
       "0.4942"
      ],
      "text/markdown": [
       "0.4942"
      ],
      "text/plain": [
       "[1] 0.4942"
      ]
     },
     "metadata": {},
     "output_type": "display_data"
    }
   ],
   "source": [
    "#START\n",
    "N <- 10000\n",
    "m <- 0\n",
    "for (i in 1:N) {\n",
    "  X <- runif(3)\n",
    "  if (is_good(X)) {\n",
    "      m <- m + 1\n",
    "  }\n",
    "}\n",
    "m/N\n",
    "#END"
   ]
  },
  {
   "cell_type": "markdown",
   "metadata": {},
   "source": [
    "## Part 2: Try doing it without a loop!"
   ]
  },
  {
   "cell_type": "code",
   "execution_count": 313,
   "metadata": {
    "attributes": {
     "cache": "TRUE",
     "classes": [],
     "id": ""
    }
   },
   "outputs": [
    {
     "data": {
      "text/html": [
       "0.4976"
      ],
      "text/latex": [
       "0.4976"
      ],
      "text/markdown": [
       "0.4976"
      ],
      "text/plain": [
       "[1] 0.4976"
      ]
     },
     "metadata": {},
     "output_type": "display_data"
    }
   ],
   "source": [
    "#START\n",
    "N <- 10000\n",
    "m <- replicate(N, is_good(runif(3)))\n",
    "sum(m)/N\n",
    "#END"
   ]
  },
  {
   "cell_type": "markdown",
   "metadata": {},
   "source": [
    "# Packages\n",
    "\n",
    "## Installing `R` Packages\n",
    "- `R` has many (*MANY*) packages created by other users that implement\n",
    "state-of-the-art tools (e.g., data manipulation, statistical models)\n",
    "- These packages can be downloaded from the Comprehensive R Archive Network (CRAN)\n",
    "- This is as simple as running a single line of code:"
   ]
  },
  {
   "cell_type": "code",
   "execution_count": 187,
   "metadata": {
    "attributes": {
     "classes": [],
     "eval": "FALSE",
     "id": ""
    }
   },
   "outputs": [
    {
     "name": "stderr",
     "output_type": "stream",
     "text": [
      "Installing package into ‘/home/willcai/R/x86_64-pc-linux-gnu-library/3.4’\n",
      "(as ‘lib’ is unspecified)\n",
      "Warning message:\n",
      "“package ‘package name’ is not available (for R version 3.4.4)”"
     ]
    }
   ],
   "source": [
    "install.packages(\"package name\")"
   ]
  },
  {
   "cell_type": "markdown",
   "metadata": {},
   "source": [
    "- You will have to select one of many CRAN mirrors (copies across different\n",
    "servers) from which to download the package from\n",
    "- For example, to install the `tidyverse` package, run"
   ]
  },
  {
   "cell_type": "code",
   "execution_count": 188,
   "metadata": {
    "attributes": {
     "classes": [],
     "eval": "FALSE",
     "id": ""
    }
   },
   "outputs": [
    {
     "name": "stderr",
     "output_type": "stream",
     "text": [
      "Installing package into ‘/home/willcai/R/x86_64-pc-linux-gnu-library/3.4’\n",
      "(as ‘lib’ is unspecified)\n"
     ]
    }
   ],
   "source": [
    "install.packages(\"tidyverse\")"
   ]
  },
  {
   "cell_type": "markdown",
   "metadata": {},
   "source": [
    "We will need the packages named 'lubridate' and 'broom' from the next section.  Try installing them below:"
   ]
  },
  {
   "cell_type": "code",
   "execution_count": 314,
   "metadata": {},
   "outputs": [
    {
     "name": "stderr",
     "output_type": "stream",
     "text": [
      "Installing package into ‘/home/willcai/R/x86_64-pc-linux-gnu-library/3.4’\n",
      "(as ‘lib’ is unspecified)\n",
      "Installing package into ‘/home/willcai/R/x86_64-pc-linux-gnu-library/3.4’\n",
      "(as ‘lib’ is unspecified)\n"
     ]
    }
   ],
   "source": [
    "#START\n",
    "install.packages('lubridate')\n",
    "install.packages('broom')\n",
    "#END"
   ]
  },
  {
   "cell_type": "markdown",
   "metadata": {},
   "source": [
    "- You only need to do this *once* for each machine\n",
    "\n",
    "\n",
    "## Loading Packages\n",
    "- Once you've installed a package on a machine, you can load the package into\n",
    "your current workspace with the `library()` command\n",
    "- For example, to use the `tidyverse` package, first load it with"
   ]
  },
  {
   "cell_type": "code",
   "execution_count": null,
   "metadata": {
    "attributes": {
     "classes": [],
     "eval": "FALSE",
     "id": ""
    }
   },
   "outputs": [],
   "source": [
    "library(\"tidyverse\")"
   ]
  },
  {
   "cell_type": "markdown",
   "metadata": {},
   "source": [
    "- You can also use specific functions from a package without loading it,\n",
    "  by telling `R` which package the function belongs to with a namespace prefix,\n",
    "  `package_name::`.\n",
    "- For example, to use the `round_any()` function from the `plyr` package,\n",
    "  without actually loading `plyr`, write"
   ]
  },
  {
   "cell_type": "code",
   "execution_count": null,
   "metadata": {
    "attributes": {
     "classes": [],
     "eval": "FALSE",
     "id": ""
    }
   },
   "outputs": [],
   "source": [
    "# Assuming plyr is installed\n",
    "plyr::round_any()"
   ]
  },
  {
   "cell_type": "markdown",
   "metadata": {},
   "source": [
    "## Namespace collision\n",
    "- One of the (unfortunately many) things that `R` is bad at is preventing\n",
    "  namespace collisions\n",
    "- For example, the packages `plyr` and `dplyr`[^dplyr] have functions that are\n",
    "  named the same (e.g, `mutate()`, `summarize()`), and if you ever load both,\n",
    "  `R` will only \"see\" the function belonging to the package you loaded later\n",
    "- So beware of what packages you load, and if you only intend to use a function\n",
    "  or two, consider just specifying the namespace with `::`, instead of loading\n",
    "  the whole package.\n",
    "\n",
    "[^dplyr]: `dplyr` is part the tidyverse, and loaded when you load `tidyverse`"
   ]
  },
  {
   "cell_type": "markdown",
   "metadata": {},
   "source": [
    "# Helpful stuff we won't go over during the workshop but will leave here for later reference!"
   ]
  },
  {
   "cell_type": "markdown",
   "metadata": {},
   "source": [
    "## Vector Operations"
   ]
  },
  {
   "cell_type": "code",
   "execution_count": 262,
   "metadata": {},
   "outputs": [],
   "source": [
    "X = c(1:4)"
   ]
  },
  {
   "cell_type": "code",
   "execution_count": 263,
   "metadata": {},
   "outputs": [
    {
     "name": "stdout",
     "output_type": "stream",
     "text": [
      "[1] 1 2 3 4\n"
     ]
    }
   ],
   "source": [
    "print(X)"
   ]
  },
  {
   "cell_type": "code",
   "execution_count": 264,
   "metadata": {},
   "outputs": [
    {
     "name": "stdout",
     "output_type": "stream",
     "text": [
      "[1] 2 4 6 8\n"
     ]
    }
   ],
   "source": [
    "print(X + X)  # element-wise summation"
   ]
  },
  {
   "cell_type": "code",
   "execution_count": 265,
   "metadata": {},
   "outputs": [
    {
     "name": "stdout",
     "output_type": "stream",
     "text": [
      "[1] 0 0 0 0\n"
     ]
    }
   ],
   "source": [
    "print(X - X)  # element-wise subtraction"
   ]
  },
  {
   "cell_type": "markdown",
   "metadata": {},
   "source": [
    "## Vector Operations (cont'd)"
   ]
  },
  {
   "cell_type": "code",
   "execution_count": 266,
   "metadata": {},
   "outputs": [
    {
     "name": "stdout",
     "output_type": "stream",
     "text": [
      "[1] 1 2 3 4\n"
     ]
    }
   ],
   "source": [
    "print(X)"
   ]
  },
  {
   "cell_type": "code",
   "execution_count": 267,
   "metadata": {},
   "outputs": [
    {
     "name": "stdout",
     "output_type": "stream",
     "text": [
      "[1]  1  8 27 64\n"
     ]
    }
   ],
   "source": [
    "print(X^3)   # element-wise exponentiation"
   ]
  },
  {
   "cell_type": "code",
   "execution_count": 268,
   "metadata": {},
   "outputs": [
    {
     "name": "stdout",
     "output_type": "stream",
     "text": [
      "[1]  1  4  9 16\n"
     ]
    }
   ],
   "source": [
    "print(X * X)  # element-wise multiplication"
   ]
  },
  {
   "cell_type": "code",
   "execution_count": 270,
   "metadata": {},
   "outputs": [
    {
     "data": {
      "text/html": [
       "<table>\n",
       "<tbody>\n",
       "\t<tr><td>30</td></tr>\n",
       "</tbody>\n",
       "</table>\n"
      ],
      "text/latex": [
       "\\begin{tabular}{l}\n",
       "\t 30\\\\\n",
       "\\end{tabular}\n"
      ],
      "text/markdown": [
       "30"
      ],
      "text/plain": [
       "     [,1]\n",
       "[1,] 30  "
      ]
     },
     "metadata": {},
     "output_type": "display_data"
    }
   ],
   "source": [
    "X %*% X  # dot (inner) product"
   ]
  },
  {
   "cell_type": "markdown",
   "metadata": {},
   "source": [
    "## Vector comparisons\n",
    "- Comparisons are all done element-wise"
   ]
  },
  {
   "cell_type": "code",
   "execution_count": 271,
   "metadata": {},
   "outputs": [
    {
     "name": "stdout",
     "output_type": "stream",
     "text": [
      "[1]  TRUE  TRUE FALSE\n"
     ]
    }
   ],
   "source": [
    "print(c(1, 2, 3) == c(1, 2, 4))"
   ]
  },
  {
   "cell_type": "code",
   "execution_count": 272,
   "metadata": {},
   "outputs": [
    {
     "name": "stdout",
     "output_type": "stream",
     "text": [
      "[1] FALSE FALSE  TRUE\n"
     ]
    }
   ],
   "source": [
    "print(c(1, 2, 3) < c(1, 2, 4))"
   ]
  },
  {
   "cell_type": "code",
   "execution_count": 273,
   "metadata": {},
   "outputs": [
    {
     "name": "stdout",
     "output_type": "stream",
     "text": [
      "[1]  TRUE  TRUE FALSE\n"
     ]
    }
   ],
   "source": [
    "print(c(1, 2, 3) >= c(1, 2, 4))"
   ]
  },
  {
   "cell_type": "markdown",
   "metadata": {},
   "source": [
    "- Note the double equal sign for comparing equality (one would be assignment!)"
   ]
  },
  {
   "cell_type": "markdown",
   "metadata": {},
   "source": [
    "## Helpful Vector Functions"
   ]
  },
  {
   "cell_type": "code",
   "execution_count": 274,
   "metadata": {
    "attributes": {
     "classes": [],
     "eval": "FALSE",
     "id": ""
    }
   },
   "outputs": [
    {
     "data": {
      "text/html": [
       "2.5"
      ],
      "text/latex": [
       "2.5"
      ],
      "text/markdown": [
       "2.5"
      ],
      "text/plain": [
       "[1] 2.5"
      ]
     },
     "metadata": {},
     "output_type": "display_data"
    },
    {
     "data": {
      "text/html": [
       "1.29099444873581"
      ],
      "text/latex": [
       "1.29099444873581"
      ],
      "text/markdown": [
       "1.29099444873581"
      ],
      "text/plain": [
       "[1] 1.290994"
      ]
     },
     "metadata": {},
     "output_type": "display_data"
    },
    {
     "data": {
      "text/html": [
       "1.66666666666667"
      ],
      "text/latex": [
       "1.66666666666667"
      ],
      "text/markdown": [
       "1.66666666666667"
      ],
      "text/plain": [
       "[1] 1.666667"
      ]
     },
     "metadata": {},
     "output_type": "display_data"
    },
    {
     "data": {
      "text/html": [
       "4"
      ],
      "text/latex": [
       "4"
      ],
      "text/markdown": [
       "4"
      ],
      "text/plain": [
       "[1] 4"
      ]
     },
     "metadata": {},
     "output_type": "display_data"
    },
    {
     "data": {
      "text/html": [
       "1"
      ],
      "text/latex": [
       "1"
      ],
      "text/markdown": [
       "1"
      ],
      "text/plain": [
       "[1] 1"
      ]
     },
     "metadata": {},
     "output_type": "display_data"
    },
    {
     "data": {
      "text/html": [
       "2.5"
      ],
      "text/latex": [
       "2.5"
      ],
      "text/markdown": [
       "2.5"
      ],
      "text/plain": [
       "[1] 2.5"
      ]
     },
     "metadata": {},
     "output_type": "display_data"
    },
    {
     "data": {
      "text/html": [
       "10"
      ],
      "text/latex": [
       "10"
      ],
      "text/markdown": [
       "10"
      ],
      "text/plain": [
       "[1] 10"
      ]
     },
     "metadata": {},
     "output_type": "display_data"
    },
    {
     "data": {
      "text/html": [
       "24"
      ],
      "text/latex": [
       "24"
      ],
      "text/markdown": [
       "24"
      ],
      "text/plain": [
       "[1] 24"
      ]
     },
     "metadata": {},
     "output_type": "display_data"
    },
    {
     "data": {
      "text/html": [
       "<strong>50%:</strong> 2.5"
      ],
      "text/latex": [
       "\\textbf{50\\textbackslash{}\\%:} 2.5"
      ],
      "text/markdown": [
       "**50%:** 2.5"
      ],
      "text/plain": [
       "50% \n",
       "2.5 "
      ]
     },
     "metadata": {},
     "output_type": "display_data"
    },
    {
     "data": {
      "text/html": [
       "4"
      ],
      "text/latex": [
       "4"
      ],
      "text/markdown": [
       "4"
      ],
      "text/plain": [
       "[1] 4"
      ]
     },
     "metadata": {},
     "output_type": "display_data"
    },
    {
     "data": {
      "text/html": [
       "<ol class=list-inline>\n",
       "\t<li>1</li>\n",
       "\t<li>4</li>\n",
       "</ol>\n"
      ],
      "text/latex": [
       "\\begin{enumerate*}\n",
       "\\item 1\n",
       "\\item 4\n",
       "\\end{enumerate*}\n"
      ],
      "text/markdown": [
       "1. 1\n",
       "2. 4\n",
       "\n",
       "\n"
      ],
      "text/plain": [
       "[1] 1 4"
      ]
     },
     "metadata": {},
     "output_type": "display_data"
    }
   ],
   "source": [
    "X = c(1:4)\n",
    "mean(X)                # mean\n",
    "sd(X)                  # standard deviation\n",
    "var(X)                 # variance\n",
    "max(X)                 # maximum\n",
    "min(X)                 # minimum\n",
    "median(X)              # median\n",
    "sum(X)                 # sum\n",
    "prod(X)                # product\n",
    "quantile(X,probs=0.5)  # quantile for specified probs\n",
    "length(X)              # length of the vector\n",
    "range(X)               # range"
   ]
  },
  {
   "cell_type": "markdown",
   "metadata": {},
   "source": [
    "# Built-in functions\n",
    "\n",
    "## Some more built-in functions\n",
    "- We've already seen many built-in functions, but here are some more!"
   ]
  },
  {
   "cell_type": "code",
   "execution_count": 275,
   "metadata": {
    "attributes": {
     "classes": [],
     "eval": "FALSE",
     "id": ""
    }
   },
   "outputs": [
    {
     "name": "stdout",
     "output_type": "stream",
     "text": [
      "[1] 0.0000000 0.6931472 1.0986123 1.3862944\n"
     ]
    }
   ],
   "source": [
    "print(log(X))   # element-wise log"
   ]
  },
  {
   "cell_type": "code",
   "execution_count": 276,
   "metadata": {},
   "outputs": [
    {
     "name": "stdout",
     "output_type": "stream",
     "text": [
      "[1]  2.718282  7.389056 20.085537 54.598150\n"
     ]
    }
   ],
   "source": [
    "print(exp(X))   # element-wise exponential"
   ]
  },
  {
   "cell_type": "code",
   "execution_count": 277,
   "metadata": {},
   "outputs": [
    {
     "name": "stdout",
     "output_type": "stream",
     "text": [
      "[1] 1.000000 1.414214 1.732051 2.000000\n"
     ]
    }
   ],
   "source": [
    "print(sqrt(X))  # element-wise square root"
   ]
  },
  {
   "cell_type": "markdown",
   "metadata": {},
   "source": [
    "## Functions for Strings"
   ]
  },
  {
   "cell_type": "code",
   "execution_count": 153,
   "metadata": {},
   "outputs": [
    {
     "data": {
      "text/html": [
       "'one plus one equals 2 !'"
      ],
      "text/latex": [
       "'one plus one equals 2 !'"
      ],
      "text/markdown": [
       "'one plus one equals 2 !'"
      ],
      "text/plain": [
       "[1] \"one plus one equals 2 !\""
      ]
     },
     "metadata": {},
     "output_type": "display_data"
    }
   ],
   "source": [
    "# concatenate two (or more) strings\n",
    "paste('one plus one equals', 1+1, '!')"
   ]
  },
  {
   "cell_type": "code",
   "execution_count": 154,
   "metadata": {},
   "outputs": [
    {
     "data": {
      "text/html": [
       "'one plus one=2'"
      ],
      "text/latex": [
       "'one plus one=2'"
      ],
      "text/markdown": [
       "'one plus one=2'"
      ],
      "text/plain": [
       "[1] \"one plus one=2\""
      ]
     },
     "metadata": {},
     "output_type": "display_data"
    }
   ],
   "source": [
    "# specify a separator\n",
    "paste('one plus one', 1+1, sep='=')"
   ]
  },
  {
   "cell_type": "markdown",
   "metadata": {},
   "source": [
    "## Functions for Strings (cont'd)\n",
    "- Often, we want to concatenate strings with no spaces\n",
    "(e.g., when constructing filenames/paths at run-time)"
   ]
  },
  {
   "cell_type": "code",
   "execution_count": 156,
   "metadata": {},
   "outputs": [
    {
     "data": {
      "text/html": [
       "'path/to/some_file_name.csv'"
      ],
      "text/latex": [
       "'path/to/some\\_file\\_name.csv'"
      ],
      "text/markdown": [
       "'path/to/some_file_name.csv'"
      ],
      "text/plain": [
       "[1] \"path/to/some_file_name.csv\""
      ]
     },
     "metadata": {},
     "output_type": "display_data"
    },
    {
     "data": {
      "text/html": [
       "'path/to/some_file_name.csv'"
      ],
      "text/latex": [
       "'path/to/some\\_file\\_name.csv'"
      ],
      "text/markdown": [
       "'path/to/some_file_name.csv'"
      ],
      "text/plain": [
       "[1] \"path/to/some_file_name.csv\""
      ]
     },
     "metadata": {},
     "output_type": "display_data"
    }
   ],
   "source": [
    "# short-hand for concatenation w/o spaces\n",
    "filename = 'some_file_name.csv'\n",
    "paste0('path/to/', filename)\n",
    "# function specifically for constructing file paths\n",
    "file.path('path', 'to', filename)"
   ]
  },
  {
   "cell_type": "markdown",
   "metadata": {},
   "source": [
    "## Functions for Strings (cont'd)\n",
    "- To enforce upper/lower cases"
   ]
  },
  {
   "cell_type": "code",
   "execution_count": 161,
   "metadata": {},
   "outputs": [
    {
     "data": {
      "text/html": [
       "'some crazy string'"
      ],
      "text/latex": [
       "'some crazy string'"
      ],
      "text/markdown": [
       "'some crazy string'"
      ],
      "text/plain": [
       "[1] \"some crazy string\""
      ]
     },
     "metadata": {},
     "output_type": "display_data"
    }
   ],
   "source": [
    "s <- 'SoMe CraZY STRING'\n",
    "tolower(s)"
   ]
  },
  {
   "cell_type": "code",
   "execution_count": 162,
   "metadata": {},
   "outputs": [
    {
     "data": {
      "text/html": [
       "'SOME CRAZY STRING'"
      ],
      "text/latex": [
       "'SOME CRAZY STRING'"
      ],
      "text/markdown": [
       "'SOME CRAZY STRING'"
      ],
      "text/plain": [
       "[1] \"SOME CRAZY STRING\""
      ]
     },
     "metadata": {},
     "output_type": "display_data"
    }
   ],
   "source": [
    "toupper(s)"
   ]
  },
  {
   "cell_type": "markdown",
   "metadata": {},
   "source": [
    "## Generic Functions\n",
    "- Some functions for exploring objects"
   ]
  },
  {
   "cell_type": "code",
   "execution_count": 163,
   "metadata": {},
   "outputs": [
    {
     "data": {
      "text/html": [
       "<ol class=list-inline>\n",
       "\t<li>1</li>\n",
       "\t<li>2</li>\n",
       "\t<li>3</li>\n",
       "\t<li>4</li>\n",
       "\t<li>5</li>\n",
       "</ol>\n"
      ],
      "text/latex": [
       "\\begin{enumerate*}\n",
       "\\item 1\n",
       "\\item 2\n",
       "\\item 3\n",
       "\\item 4\n",
       "\\item 5\n",
       "\\end{enumerate*}\n"
      ],
      "text/markdown": [
       "1. 1\n",
       "2. 2\n",
       "3. 3\n",
       "4. 4\n",
       "5. 5\n",
       "\n",
       "\n"
      ],
      "text/plain": [
       "[1] 1 2 3 4 5"
      ]
     },
     "metadata": {},
     "output_type": "display_data"
    }
   ],
   "source": [
    "obj <- 1:100\n",
    "head(obj, n=5)  # display first n rows of obj"
   ]
  },
  {
   "cell_type": "code",
   "execution_count": 164,
   "metadata": {},
   "outputs": [
    {
     "data": {
      "text/html": [
       "<ol class=list-inline>\n",
       "\t<li>96</li>\n",
       "\t<li>97</li>\n",
       "\t<li>98</li>\n",
       "\t<li>99</li>\n",
       "\t<li>100</li>\n",
       "</ol>\n"
      ],
      "text/latex": [
       "\\begin{enumerate*}\n",
       "\\item 96\n",
       "\\item 97\n",
       "\\item 98\n",
       "\\item 99\n",
       "\\item 100\n",
       "\\end{enumerate*}\n"
      ],
      "text/markdown": [
       "1. 96\n",
       "2. 97\n",
       "3. 98\n",
       "4. 99\n",
       "5. 100\n",
       "\n",
       "\n"
      ],
      "text/plain": [
       "[1]  96  97  98  99 100"
      ]
     },
     "metadata": {},
     "output_type": "display_data"
    }
   ],
   "source": [
    "tail(obj, n=5)  # display last n rows of obj"
   ]
  },
  {
   "cell_type": "markdown",
   "metadata": {},
   "source": [
    "## Generic Functions (cont'd)"
   ]
  },
  {
   "cell_type": "code",
   "execution_count": 166,
   "metadata": {},
   "outputs": [
    {
     "name": "stdout",
     "output_type": "stream",
     "text": [
      " int [1:100] 1 2 3 4 5 6 7 8 9 10 ...\n"
     ]
    }
   ],
   "source": [
    "str(obj)  # display structure of obj"
   ]
  },
  {
   "cell_type": "code",
   "execution_count": 167,
   "metadata": {},
   "outputs": [
    {
     "data": {
      "text/plain": [
       "   Min. 1st Qu.  Median    Mean 3rd Qu.    Max. \n",
       "   1.00   25.75   50.50   50.50   75.25  100.00 "
      ]
     },
     "metadata": {},
     "output_type": "display_data"
    }
   ],
   "source": [
    "summary(obj)  # display summary of obj"
   ]
  }
 ],
 "metadata": {
  "kernelspec": {
   "display_name": "R",
   "language": "R",
   "name": "ir"
  },
  "language_info": {
   "codemirror_mode": "r",
   "file_extension": ".r",
   "mimetype": "text/x-r-source",
   "name": "R",
   "pygments_lexer": "r",
   "version": "3.6.1"
  }
 },
 "nbformat": 4,
 "nbformat_minor": 4
}
