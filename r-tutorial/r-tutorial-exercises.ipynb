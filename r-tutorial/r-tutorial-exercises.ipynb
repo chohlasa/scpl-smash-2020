{
 "cells": [
  {
   "cell_type": "markdown",
   "metadata": {},
   "source": [
    "## R Things You Should Know\n",
    "In this notebook, we'll go over fundamentals of R including:\n",
    " - Setting up a working directory and importing data\n",
    " - Data structures\n",
    " - Sampling\n",
    " - Control Flow\n",
    " - Packages"
   ]
  },
  {
   "cell_type": "markdown",
   "metadata": {},
   "source": [
    "## Working Directory and importing Data\n",
    " - Working directory (`wd`) is where your `R` session will load/save files\n",
    " - To see where your current working directory is, run"
   ]
  },
  {
   "cell_type": "code",
   "execution_count": null,
   "metadata": {
    "attributes": {
     "classes": [],
     "eval": "FALSE",
     "id": ""
    }
   },
   "outputs": [],
   "source": [
    "getwd()"
   ]
  },
  {
   "cell_type": "markdown",
   "metadata": {},
   "source": [
    "- To set the working directory to desired `path`, run"
   ]
  },
  {
   "cell_type": "code",
   "execution_count": null,
   "metadata": {
    "attributes": {
     "classes": [],
     "eval": "FALSE",
     "id": ""
    }
   },
   "outputs": [],
   "source": [
    "setwd(\"/insert/path/here\")"
   ]
  },
  {
   "cell_type": "markdown",
   "metadata": {},
   "source": [
    " # .csv \n",
    " - csv stands for comma-separated values, which is a very common format to store data in.\n",
    " - You can import a csv file into R using read_csv."
   ]
  },
  {
   "cell_type": "code",
   "execution_count": null,
   "metadata": {},
   "outputs": [],
   "source": [
    "read_csv('some_data.csv')"
   ]
  },
  {
   "cell_type": "markdown",
   "metadata": {},
   "source": [
    "You can also use write_csv to save tables of data into an existing csv file, which appears wherever your working directory. Here we use data.frame to create a table - we'll take more about tables later."
   ]
  },
  {
   "cell_type": "code",
   "execution_count": null,
   "metadata": {},
   "outputs": [],
   "source": [
    "write_csv(data.frame(a = c(1, 2, 3),\n",
    "                 b = c(2, 3, 4)),\n",
    "         'new_data.csv')"
   ]
  },
  {
   "cell_type": "markdown",
   "metadata": {},
   "source": [
    "Try reading in the file you just wrote."
   ]
  },
  {
   "cell_type": "code",
   "execution_count": null,
   "metadata": {},
   "outputs": [],
   "source": [
    "#use read_csv to read in new_data.csv\n"
   ]
  },
  {
   "cell_type": "markdown",
   "metadata": {},
   "source": [
    "# Data and Data structures"
   ]
  },
  {
   "cell_type": "markdown",
   "metadata": {},
   "source": [
    "## Strings\n",
    "\n",
    " - Strings are what computer science people call text\n",
    " - A String variable can be declared in either double quotes(\"\") or single quotes ('')\n",
    "\n"
   ]
  },
  {
   "cell_type": "code",
   "execution_count": null,
   "metadata": {},
   "outputs": [],
   "source": [
    "s <- \"This is a valid string\"\n",
    "s"
   ]
  },
  {
   "cell_type": "markdown",
   "metadata": {},
   "source": [
    " - And you can reassign to the same variable"
   ]
  },
  {
   "cell_type": "code",
   "execution_count": null,
   "metadata": {},
   "outputs": [],
   "source": [
    "s <- 'and so is this'\n",
    "s"
   ]
  },
  {
   "cell_type": "markdown",
   "metadata": {},
   "source": [
    "# Vectors\n",
    "\n",
    "## Vectors: `c()`\n",
    " - Vectors are the building blocks of `R` --- even a single variable is actually\n",
    " an \"atomic\" vector (vector of size 1)\n",
    " - Vectors in `R` are created by *c*oncatenating a series of elements\n",
    " - We saw lots of vectors in the birthday problem notebook!"
   ]
  },
  {
   "cell_type": "markdown",
   "metadata": {},
   "source": [
    "## Vectors: `seq()`\n",
    "- Create a vector from a sequence with `seq(from, to, by=1)`"
   ]
  },
  {
   "cell_type": "code",
   "execution_count": null,
   "metadata": {},
   "outputs": [],
   "source": [
    "print(seq(1, 10))"
   ]
  },
  {
   "cell_type": "code",
   "execution_count": null,
   "metadata": {},
   "outputs": [],
   "source": [
    "print(seq(1, 10, 2))"
   ]
  },
  {
   "cell_type": "markdown",
   "metadata": {},
   "source": [
    "- Use short-hand `from:to` if you're incrementing by one"
   ]
  },
  {
   "cell_type": "code",
   "execution_count": null,
   "metadata": {},
   "outputs": [],
   "source": [
    "print(1:10)"
   ]
  },
  {
   "cell_type": "markdown",
   "metadata": {},
   "source": [
    "## Vectors: `rep()`\n",
    "- Use `rep()` to repeat values"
   ]
  },
  {
   "cell_type": "code",
   "execution_count": null,
   "metadata": {},
   "outputs": [],
   "source": [
    "print(rep(13, 4))"
   ]
  },
  {
   "cell_type": "code",
   "execution_count": null,
   "metadata": {},
   "outputs": [],
   "source": [
    "print(rep('Yes!', 3))"
   ]
  },
  {
   "cell_type": "code",
   "execution_count": null,
   "metadata": {},
   "outputs": [],
   "source": [
    "print(rep(c('Sat.', 'Sun.'), 2))"
   ]
  },
  {
   "cell_type": "markdown",
   "metadata": {},
   "source": [
    "# Exercise\n",
    "- Make a vector using seq() and rep() which would be equivalent to (10,20,30,10,20,30,10,20,30)"
   ]
  },
  {
   "cell_type": "code",
   "execution_count": null,
   "metadata": {},
   "outputs": [],
   "source": []
  },
  {
   "cell_type": "markdown",
   "metadata": {},
   "source": [
    "## Vectors: Indexing\n",
    "- We saw vector indexing in the birthday problem notebook, but let's review.\n",
    "- Use square braces (`[]`) to index a vector (base 1)\n",
    "    - Indexing out-of-bounds returns a special value called `NA`, *does NOT*\n",
    "      fail"
   ]
  },
  {
   "cell_type": "code",
   "execution_count": null,
   "metadata": {},
   "outputs": [],
   "source": [
    "X <- c(10, 11, 12, 13)"
   ]
  },
  {
   "cell_type": "code",
   "execution_count": null,
   "metadata": {},
   "outputs": [],
   "source": [
    "print(X[1])"
   ]
  },
  {
   "cell_type": "code",
   "execution_count": null,
   "metadata": {},
   "outputs": [],
   "source": [
    "print(X[4])"
   ]
  },
  {
   "cell_type": "code",
   "execution_count": null,
   "metadata": {},
   "outputs": [],
   "source": [
    "print(X[5])  # Does NOT fail; but returns NA"
   ]
  },
  {
   "cell_type": "markdown",
   "metadata": {},
   "source": [
    "## Vectors: Indexing (cont'd)\n",
    "- Negative indexing is used to exclude elements"
   ]
  },
  {
   "cell_type": "code",
   "execution_count": null,
   "metadata": {},
   "outputs": [],
   "source": [
    "print(X[-1])"
   ]
  },
  {
   "cell_type": "markdown",
   "metadata": {},
   "source": [
    "- Index multiple objects by indexing with a vector"
   ]
  },
  {
   "cell_type": "code",
   "execution_count": null,
   "metadata": {},
   "outputs": [],
   "source": [
    "ind <- c(2, 4)\n",
    "print(X[ind])"
   ]
  },
  {
   "cell_type": "markdown",
   "metadata": {},
   "source": [
    "## Vectors: Re-assignment with Indices\n",
    "- Replace elements by re-assigning with index"
   ]
  },
  {
   "cell_type": "code",
   "execution_count": null,
   "metadata": {},
   "outputs": [],
   "source": [
    "X[1] <- 101\n",
    "print(X)"
   ]
  },
  {
   "cell_type": "markdown",
   "metadata": {},
   "source": [
    "- Replace multiple elements as well"
   ]
  },
  {
   "cell_type": "code",
   "execution_count": null,
   "metadata": {},
   "outputs": [],
   "source": [
    "X[2:3] <- c(22, 33)\n",
    "print(X)"
   ]
  },
  {
   "cell_type": "markdown",
   "metadata": {},
   "source": [
    "## Vectors: Add Elements by Index\n",
    "- Add new elements to a vector by assigning"
   ]
  },
  {
   "cell_type": "code",
   "execution_count": null,
   "metadata": {},
   "outputs": [],
   "source": [
    "print(X[5])"
   ]
  },
  {
   "cell_type": "code",
   "execution_count": null,
   "metadata": {},
   "outputs": [],
   "source": [
    "X[5] <- 555\n",
    "print(X[5])"
   ]
  },
  {
   "cell_type": "markdown",
   "metadata": {},
   "source": [
    "# Exercise\n",
    "The below vector is supposed to contain all the days of the week, but two of them are messed up.  Write code to reassign the missing days using re-assignment with indices."
   ]
  },
  {
   "cell_type": "code",
   "execution_count": null,
   "metadata": {},
   "outputs": [],
   "source": [
    "days_of_the_week <- c('Monday', 'Tuesday', 'Wednesday', 'Thursday', 5, 6, 'Sunday')"
   ]
  },
  {
   "cell_type": "code",
   "execution_count": null,
   "metadata": {},
   "outputs": [],
   "source": [
    "#Replace the numbers with the correct days\n"
   ]
  },
  {
   "cell_type": "markdown",
   "metadata": {},
   "source": [
    "# Sampling"
   ]
  },
  {
   "cell_type": "markdown",
   "metadata": {},
   "source": [
    "- In the birthday problem notebook, we used sample() to sample from a vector of numbers.\n",
    "        sample(1:366, 30, replace = TRUE)\n",
    "- Sometimes we instead want to generate samples from known distributions\n",
    "    - e.g., simulating 1,000 coin flips and counting the number of heads\n",
    "- For this, we can use the family of `r`*`dist`*`()` functions, where *`dist`*\n",
    "  is replaced with the desired distribution\n",
    "  (e.g., `unif`orm, `norm`al, `pois`son)"
   ]
  },
  {
   "cell_type": "code",
   "execution_count": null,
   "metadata": {
    "attributes": {
     "classes": [],
     "eval": "FALSE",
     "id": ""
    }
   },
   "outputs": [],
   "source": [
    "print(runif(n = 5)) # 5 samples from Unif(0, 1)"
   ]
  },
  {
   "cell_type": "code",
   "execution_count": null,
   "metadata": {},
   "outputs": [],
   "source": [
    "print(rnorm(n = 5))  # 5 samples from Norm(0, 1)"
   ]
  },
  {
   "cell_type": "code",
   "execution_count": null,
   "metadata": {},
   "outputs": [],
   "source": [
    "print(rpois(n = 5, 1))  # 5 samples from Poisson(1)"
   ]
  },
  {
   "cell_type": "code",
   "execution_count": null,
   "metadata": {},
   "outputs": [],
   "source": [
    "print(rexp(n = 5))  # 5 samples from Exp(1)"
   ]
  },
  {
   "cell_type": "markdown",
   "metadata": {},
   "source": [
    "- Distribution parameters can be specified as arguments, e.g."
   ]
  },
  {
   "cell_type": "code",
   "execution_count": null,
   "metadata": {
    "attributes": {
     "classes": [],
     "eval": "FALSE",
     "id": ""
    }
   },
   "outputs": [],
   "source": [
    "# 7 samples from a Norm(20, 5) distribution\n",
    "print(rnorm(n = 7, mean = 20, sd = 5))"
   ]
  },
  {
   "cell_type": "markdown",
   "metadata": {},
   "source": [
    "- In general, you can bring up a help page for any function which comes from a library or base R by typing ?function_name"
   ]
  },
  {
   "cell_type": "code",
   "execution_count": null,
   "metadata": {},
   "outputs": [],
   "source": [
    "?rnorm"
   ]
  },
  {
   "cell_type": "markdown",
   "metadata": {},
   "source": [
    " - The help page tells us that qnorm is the quantile function."
   ]
  },
  {
   "cell_type": "code",
   "execution_count": null,
   "metadata": {},
   "outputs": [],
   "source": [
    "qnorm(.975, mean = 0, sd = 1)"
   ]
  },
  {
   "cell_type": "markdown",
   "metadata": {},
   "source": [
    "This means that the 97.5 th percentile of the normal distribution with mean 0 and sd 1 is at 1.96.\n",
    " - The help page also tells us that pnorm is the distribution function."
   ]
  },
  {
   "cell_type": "code",
   "execution_count": null,
   "metadata": {},
   "outputs": [],
   "source": [
    "pnorm(1)"
   ]
  },
  {
   "cell_type": "markdown",
   "metadata": {},
   "source": [
    "This means that 84% of draws from a normal distribution with mean 0 and sd 1 will be less than 1.  This squares up with the rule of thumb that 68% of draws from N(0, 1) are within 1 standard deviation of the mean, so (1 - .68)/2 = .16 will be greater than 1 standard deviation above the mean, since 1 - .16 = .84"
   ]
  },
  {
   "cell_type": "markdown",
   "metadata": {},
   "source": [
    "# Exercise\n",
    "Let's say we are ice cream researchers measuring the effect of a treatment where we bombard people with advertising which talks about how delicious ice cream is.  Say we measure our control group eating on average 3 ice creams a day, with a standard error of .5.  Then say our treatment group eats on average 4 ice creams a day, with a standard error of .7.  Give an 80% confidence interval on the effect of our advertising treatment."
   ]
  },
  {
   "cell_type": "markdown",
   "metadata": {},
   "source": [
    "Remember: When you take the difference between normals N(a, b) - N(c, d), the result is N(a - c, sqrt(b^2 + d^2))\n",
    "So our estimate of the difference in how much ice cream people eat (the effect of our treatment) is a normal with mean=(4 - 3) and standard deviation=sqrt(.5^2 + .7^2)."
   ]
  },
  {
   "cell_type": "code",
   "execution_count": null,
   "metadata": {},
   "outputs": [],
   "source": []
  },
  {
   "cell_type": "markdown",
   "metadata": {},
   "source": [
    "# Custom functions and control\n",
    "\n",
    "## Control Flow\n",
    "- We saw `if` statements inside of loops in the birthday problem, but we can use them outside of loops too!"
   ]
  },
  {
   "cell_type": "code",
   "execution_count": null,
   "metadata": {
    "attributes": {
     "classes": [],
     "eval": "FALSE",
     "id": ""
    }
   },
   "outputs": [],
   "source": [
    "if (condition) {\n",
    "  # stuff to do when condition is TRUE\n",
    "} else if(other_condition) {  # (OPTIONAL)\n",
    "  # stuff to do if other_condition is TRUE\n",
    "} else {  # (OPTIONAL)\n",
    "  # stuff to do if all other conditions are FALSE\n",
    "}"
   ]
  },
  {
   "cell_type": "markdown",
   "metadata": {},
   "source": [
    "## Loops \n",
    "\n",
    " - We saw one type of loop in the birthday problem"
   ]
  },
  {
   "cell_type": "code",
   "execution_count": null,
   "metadata": {},
   "outputs": [],
   "source": [
    "counter <- 0\n",
    "\n",
    "for (i in 1:5) {\n",
    "    counter <- counter + 1\n",
    "\n",
    "    print(counter)\n",
    "    \n",
    "    if (counter >= 3) {\n",
    "        print(\"Counter is now bigger than or equal to 3!\")\n",
    "    }\n",
    "}"
   ]
  },
  {
   "cell_type": "markdown",
   "metadata": {},
   "source": [
    " - But there's another type of loop as well, the while loop"
   ]
  },
  {
   "cell_type": "code",
   "execution_count": null,
   "metadata": {},
   "outputs": [],
   "source": [
    "counter <- 0\n",
    "\n",
    "while (counter < 5){\n",
    "    counter <- counter + 1 \n",
    "    \n",
    "    print(counter)\n",
    "    \n",
    "    if (counter >=3){\n",
    "        print('Counter is now bigger than or equal to 3!')\n",
    "    }\n",
    "}"
   ]
  },
  {
   "cell_type": "markdown",
   "metadata": {},
   "source": [
    " - be careful that the condition in `while (condition){` eventually becomes false!"
   ]
  },
  {
   "cell_type": "markdown",
   "metadata": {},
   "source": [
    "## User Defined Functions\n",
    "- Write your own functions in the form"
   ]
  },
  {
   "cell_type": "code",
   "execution_count": null,
   "metadata": {
    "attributes": {
     "classes": [],
     "eval": "FALSE",
     "id": ""
    }
   },
   "outputs": [],
   "source": [
    "name_of_function <- function(arguments) {\n",
    "  # do some stuff with arguments\n",
    "  return(result)\n",
    "}"
   ]
  },
  {
   "cell_type": "markdown",
   "metadata": {},
   "source": [
    "- You can use your functions like any other function, e.g.,"
   ]
  },
  {
   "cell_type": "code",
   "execution_count": null,
   "metadata": {
    "attributes": {
     "classes": [],
     "eval": "FALSE",
     "id": ""
    }
   },
   "outputs": [],
   "source": [
    "name_of_function(arguments)  # gives you the 'result'"
   ]
  },
  {
   "cell_type": "markdown",
   "metadata": {},
   "source": [
    "For example, here's an example of a function add_nums() which adds its arguments, and how to call the function."
   ]
  },
  {
   "cell_type": "code",
   "execution_count": null,
   "metadata": {},
   "outputs": [],
   "source": [
    "add_nums <- function(x, y){\n",
    "    s <- x + y\n",
    "    return(s)\n",
    "}\n",
    "add_nums(3, 4)"
   ]
  },
  {
   "cell_type": "markdown",
   "metadata": {},
   "source": [
    "## User Defined Functions: Exercise\n",
    "- Write a function that will take a vector in $\\mathbb{R}^3$ (for example, c(1,3,5)) and tell you if you\n",
    "can make a triangle or not (i.e., return `TRUE` if a triangle can be made and \n",
    "`FALSE` otherwise.)\n",
    "- Hint: you can make a triangle from three side lengths if and only if none of the side lengths are greater than the sum of the other two."
   ]
  },
  {
   "cell_type": "code",
   "execution_count": null,
   "metadata": {},
   "outputs": [],
   "source": [
    "is_good <- function(vec) {\n",
    "  for (i in 1:3) {\n",
    "    # Check if element i is greater than \n",
    "    # sum of other two elements\n",
    "    if (vec[i] > sum(vec[-i])) {\n",
    "      return(FALSE)\n",
    "    }\n",
    "  }\n",
    "  return(TRUE)\n",
    "}"
   ]
  },
  {
   "cell_type": "markdown",
   "metadata": {},
   "source": [
    "## `replicate`\n",
    "- Loops in `R` are inefficient, and best avoided if possible\n",
    "- Vectorize operations whenever possible.\n",
    "- `replicate` can be used to repeat some operation (function),\n",
    "  and collect the results[^apply]\n",
    "- e.g., to run `some_function()` 1,000 times and collect the results:"
   ]
  },
  {
   "cell_type": "code",
   "execution_count": null,
   "metadata": {
    "attributes": {
     "": "",
     "classes": [],
     "id": ""
    }
   },
   "outputs": [],
   "source": [
    "replicate(1000, some_function())  "
   ]
  },
  {
   "cell_type": "markdown",
   "metadata": {},
   "source": [
    "[^apply]: `replicate` is actually a convenient wrapper for one of the `apply` \n",
    "functions, which are more general. See the documentation for details.\n",
    "\n",
    "\n",
    "# Exercise\n",
    "\n",
    "## The Question\n",
    "> You are given three sticks, each of a random length between 0 and 1.\n",
    "\n",
    "> What's the probability you can make a triangle?\n",
    "\n",
    "- The answer is 1/2\n",
    "- Use `R` to simulate 100,000 times and estimate the answer by\n",
    "    1. generate 100,000 triplets of uniform (0, 1) random variables\n",
    "    2. find the portion that can be made into a triangle (hint: use the\n",
    "    `is_good` function)\n",
    "\n",
    "## Part 1: You're allowed to use a 'for loop' if you want!"
   ]
  },
  {
   "cell_type": "code",
   "execution_count": null,
   "metadata": {
    "attributes": {
     "cache": "TRUE",
     "classes": [],
     "id": ""
    }
   },
   "outputs": [],
   "source": []
  },
  {
   "cell_type": "markdown",
   "metadata": {},
   "source": [
    "## Part 2: Try doing it without a loop!"
   ]
  },
  {
   "cell_type": "code",
   "execution_count": null,
   "metadata": {
    "attributes": {
     "cache": "TRUE",
     "classes": [],
     "id": ""
    }
   },
   "outputs": [],
   "source": []
  },
  {
   "cell_type": "markdown",
   "metadata": {},
   "source": [
    "# Packages\n",
    "\n",
    "## Installing `R` Packages\n",
    "- `R` has many (*MANY*) packages created by other users that implement\n",
    "state-of-the-art tools (e.g., data manipulation, statistical models)\n",
    "- These packages can be downloaded from the Comprehensive R Archive Network (CRAN)\n",
    "- This is as simple as running a single line of code:"
   ]
  },
  {
   "cell_type": "code",
   "execution_count": null,
   "metadata": {
    "attributes": {
     "classes": [],
     "eval": "FALSE",
     "id": ""
    }
   },
   "outputs": [],
   "source": [
    "install.packages(\"package name\")"
   ]
  },
  {
   "cell_type": "markdown",
   "metadata": {},
   "source": [
    "- You will have to select one of many CRAN mirrors (copies across different\n",
    "servers) from which to download the package from\n",
    "- For example, to install the `tidyverse` package, run"
   ]
  },
  {
   "cell_type": "code",
   "execution_count": null,
   "metadata": {
    "attributes": {
     "classes": [],
     "eval": "FALSE",
     "id": ""
    }
   },
   "outputs": [],
   "source": [
    "install.packages(\"tidyverse\")"
   ]
  },
  {
   "cell_type": "markdown",
   "metadata": {},
   "source": [
    "- You only need to do this *once* for each machine\n",
    "\n",
    "\n",
    "## Loading Packages\n",
    "- Once you've installed a package on a machine, you can load the package into\n",
    "your current workspace with the `library()` command\n",
    "- For example, to use the `tidyverse` package, first load it with"
   ]
  },
  {
   "cell_type": "code",
   "execution_count": null,
   "metadata": {
    "attributes": {
     "classes": [],
     "eval": "FALSE",
     "id": ""
    }
   },
   "outputs": [],
   "source": [
    "library(\"tidyverse\")"
   ]
  },
  {
   "cell_type": "markdown",
   "metadata": {},
   "source": [
    "- You can also use specific functions from a package without loading it,\n",
    "  by telling `R` which package the function belongs to with a namespace prefix,\n",
    "  `package_name::`.\n",
    "- For example, to use the `round_any()` function from the `plyr` package,\n",
    "  without actually loading `plyr`, write"
   ]
  },
  {
   "cell_type": "code",
   "execution_count": null,
   "metadata": {
    "attributes": {
     "classes": [],
     "eval": "FALSE",
     "id": ""
    }
   },
   "outputs": [],
   "source": [
    "# Assuming plyr is installed\n",
    "plyr::round_any()"
   ]
  },
  {
   "cell_type": "markdown",
   "metadata": {},
   "source": [
    "## Namespace collision\n",
    "- One of the (unfortunately many) things that `R` is bad at is preventing\n",
    "  namespace collisions\n",
    "- For example, the packages `plyr` and `dplyr`[^dplyr] have functions that are\n",
    "  named the same (e.g, `mutate()`, `summarize()`), and if you ever load both,\n",
    "  `R` will only \"see\" the function belonging to the package you loaded later\n",
    "- So beware of what packages you load, and if you only intend to use a function\n",
    "  or two, consider just specifying the namespace with `::`, instead of loading\n",
    "  the whole package.\n",
    "\n",
    "[^dplyr]: `dplyr` is part the tidyverse, and loaded when you load `tidyverse`"
   ]
  },
  {
   "cell_type": "markdown",
   "metadata": {},
   "source": [
    "# Helpful stuff we won't go over during the workshop but will leave here for later reference!"
   ]
  },
  {
   "cell_type": "markdown",
   "metadata": {},
   "source": [
    "## Vector Operations"
   ]
  },
  {
   "cell_type": "code",
   "execution_count": null,
   "metadata": {},
   "outputs": [],
   "source": [
    "X = c(1:4)"
   ]
  },
  {
   "cell_type": "code",
   "execution_count": null,
   "metadata": {},
   "outputs": [],
   "source": [
    "print(X)"
   ]
  },
  {
   "cell_type": "code",
   "execution_count": null,
   "metadata": {},
   "outputs": [],
   "source": [
    "print(X + X)  # element-wise summation"
   ]
  },
  {
   "cell_type": "code",
   "execution_count": null,
   "metadata": {},
   "outputs": [],
   "source": [
    "print(X - X)  # element-wise subtraction"
   ]
  },
  {
   "cell_type": "markdown",
   "metadata": {},
   "source": [
    "## Vector Operations (cont'd)"
   ]
  },
  {
   "cell_type": "code",
   "execution_count": null,
   "metadata": {},
   "outputs": [],
   "source": [
    "print(X)"
   ]
  },
  {
   "cell_type": "code",
   "execution_count": null,
   "metadata": {},
   "outputs": [],
   "source": [
    "print(X^3)   # element-wise exponentiation"
   ]
  },
  {
   "cell_type": "code",
   "execution_count": null,
   "metadata": {},
   "outputs": [],
   "source": [
    "print(X * X)  # element-wise multiplication"
   ]
  },
  {
   "cell_type": "code",
   "execution_count": null,
   "metadata": {},
   "outputs": [],
   "source": [
    "X %*% X  # dot (inner) product"
   ]
  },
  {
   "cell_type": "markdown",
   "metadata": {},
   "source": [
    "## Vector comparisons\n",
    "- Comparisons are all done element-wise"
   ]
  },
  {
   "cell_type": "code",
   "execution_count": null,
   "metadata": {},
   "outputs": [],
   "source": [
    "print(c(1, 2, 3) == c(1, 2, 4))"
   ]
  },
  {
   "cell_type": "code",
   "execution_count": null,
   "metadata": {},
   "outputs": [],
   "source": [
    "print(c(1, 2, 3) < c(1, 2, 4))"
   ]
  },
  {
   "cell_type": "code",
   "execution_count": null,
   "metadata": {},
   "outputs": [],
   "source": [
    "print(c(1, 2, 3) >= c(1, 2, 4))"
   ]
  },
  {
   "cell_type": "markdown",
   "metadata": {},
   "source": [
    "- Note the double equal sign for comparing equality (one would be assignment!)"
   ]
  },
  {
   "cell_type": "markdown",
   "metadata": {},
   "source": [
    "## Helpful Vector Functions"
   ]
  },
  {
   "cell_type": "code",
   "execution_count": null,
   "metadata": {
    "attributes": {
     "classes": [],
     "eval": "FALSE",
     "id": ""
    }
   },
   "outputs": [],
   "source": [
    "X = c(1:4)\n",
    "mean(X)                # mean\n",
    "sd(X)                  # standard deviation\n",
    "var(X)                 # variance\n",
    "max(X)                 # maximum\n",
    "min(X)                 # minimum\n",
    "median(X)              # median\n",
    "sum(X)                 # sum\n",
    "prod(X)                # product\n",
    "quantile(X,probs=0.5)  # quantile for specified probs\n",
    "length(X)              # length of the vector\n",
    "range(X)               # range"
   ]
  },
  {
   "cell_type": "markdown",
   "metadata": {},
   "source": [
    "# Built-in functions\n",
    "\n",
    "## Some more built-in functions\n",
    "- We've already seen many built-in functions, but here are some more!"
   ]
  },
  {
   "cell_type": "code",
   "execution_count": null,
   "metadata": {
    "attributes": {
     "classes": [],
     "eval": "FALSE",
     "id": ""
    }
   },
   "outputs": [],
   "source": [
    "print(log(X))   # element-wise log"
   ]
  },
  {
   "cell_type": "code",
   "execution_count": null,
   "metadata": {},
   "outputs": [],
   "source": [
    "print(exp(X))   # element-wise exponential"
   ]
  },
  {
   "cell_type": "code",
   "execution_count": null,
   "metadata": {},
   "outputs": [],
   "source": [
    "print(sqrt(X))  # element-wise square root"
   ]
  },
  {
   "cell_type": "markdown",
   "metadata": {},
   "source": [
    "## Functions for Strings"
   ]
  },
  {
   "cell_type": "code",
   "execution_count": null,
   "metadata": {},
   "outputs": [],
   "source": [
    "# concatenate two (or more) strings\n",
    "paste('one plus one equals', 1+1, '!')"
   ]
  },
  {
   "cell_type": "code",
   "execution_count": null,
   "metadata": {},
   "outputs": [],
   "source": [
    "# specify a separator\n",
    "paste('one plus one', 1+1, sep='=')"
   ]
  },
  {
   "cell_type": "markdown",
   "metadata": {},
   "source": [
    "## Functions for Strings (cont'd)\n",
    "- Often, we want to concatenate strings with no spaces\n",
    "(e.g., when constructing filenames/paths at run-time)"
   ]
  },
  {
   "cell_type": "code",
   "execution_count": null,
   "metadata": {},
   "outputs": [],
   "source": [
    "# short-hand for concatenation w/o spaces\n",
    "filename = 'some_file_name.csv'\n",
    "paste0('path/to/', filename)\n",
    "# function specifically for constructing file paths\n",
    "file.path('path', 'to', filename)"
   ]
  },
  {
   "cell_type": "markdown",
   "metadata": {},
   "source": [
    "## Functions for Strings (cont'd)\n",
    "- To enforce upper/lower cases"
   ]
  },
  {
   "cell_type": "code",
   "execution_count": null,
   "metadata": {},
   "outputs": [],
   "source": [
    "s <- 'SoMe CraZY STRING'\n",
    "tolower(s)"
   ]
  },
  {
   "cell_type": "code",
   "execution_count": null,
   "metadata": {},
   "outputs": [],
   "source": [
    "toupper(s)"
   ]
  },
  {
   "cell_type": "markdown",
   "metadata": {},
   "source": [
    "## Generic Functions\n",
    "- Some functions for exploring objects"
   ]
  },
  {
   "cell_type": "code",
   "execution_count": null,
   "metadata": {},
   "outputs": [],
   "source": [
    "obj <- 1:100\n",
    "head(obj, n=5)  # display first n rows of obj"
   ]
  },
  {
   "cell_type": "code",
   "execution_count": null,
   "metadata": {},
   "outputs": [],
   "source": [
    "tail(obj, n=5)  # display last n rows of obj"
   ]
  },
  {
   "cell_type": "markdown",
   "metadata": {},
   "source": [
    "## Generic Functions (cont'd)"
   ]
  },
  {
   "cell_type": "code",
   "execution_count": null,
   "metadata": {},
   "outputs": [],
   "source": [
    "str(obj)  # display structure of obj"
   ]
  },
  {
   "cell_type": "code",
   "execution_count": null,
   "metadata": {},
   "outputs": [],
   "source": [
    "summary(obj)  # display summary of obj"
   ]
  }
 ],
 "metadata": {
  "kernelspec": {
   "display_name": "R",
   "language": "R",
   "name": "ir"
  },
  "language_info": {
   "codemirror_mode": "r",
   "file_extension": ".r",
   "mimetype": "text/x-r-source",
   "name": "R",
   "pygments_lexer": "r",
   "version": "3.6.1"
  }
 },
 "nbformat": 4,
 "nbformat_minor": 4
}
